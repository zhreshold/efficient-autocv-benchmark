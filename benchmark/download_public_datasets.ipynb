{
 "cells": [
  {
   "cell_type": "code",
   "execution_count": null,
   "id": "6dd7f464",
   "metadata": {},
   "outputs": [],
   "source": [
    "import os\n",
    "import numpy as np\n",
    "import pandas as pd\n",
    "import d8\n",
    "from d8.image_classification import Dataset as ImgClsDataset\n",
    "from d8.object_detection import Dataset as ObjDetDataset"
   ]
  },
  {
   "cell_type": "code",
   "execution_count": null,
   "id": "a2366079",
   "metadata": {},
   "outputs": [],
   "source": [
    "# root is the destination of written images\n",
    "ROOT = '/tmp/efficient_autocv_benchmark'"
   ]
  },
  {
   "cell_type": "markdown",
   "id": "439fe129",
   "metadata": {},
   "source": [
    "### Image Classification Public Set"
   ]
  },
  {
   "cell_type": "code",
   "execution_count": null,
   "id": "32595283",
   "metadata": {},
   "outputs": [],
   "source": [
    "url = 'https://raw.githubusercontent.com/zhreshold/efficient-autocv-benchmark/master/benchmark/img_cls_public.txt'\n",
    "df = pd.read_csv(url, header=None)"
   ]
  },
  {
   "cell_type": "code",
   "execution_count": null,
   "id": "69257514",
   "metadata": {},
   "outputs": [],
   "source": [
    "def prepare_images_classification(dataset):\n",
    "    ds = ImgClsDataset.get(dataset)\n",
    "    new_root = os.path.join(ROOT, dataset)\n",
    "    os.makedirs(new_root, exist_ok=True)\n",
    "    f = ds.df.columns.get_loc('file_path')\n",
    "    l = ds.df.columns.get_loc('class_name')\n",
    "    size = len(ds.df)\n",
    "    f_format = \"{:0\" + str(int(np.ceil(np.log10(size))) + 1) + \"d}\"\n",
    "    for element in ds.df.iterrows():\n",
    "        path = element[1][f].absolute()\n",
    "        new_name = f_format.format(int(element[0])) + path.suffix\n",
    "        new_path = os.path.join(new_root, new_name)\n",
    "        new_relative = os.path.join(dataset, new_name)\n",
    "        with open(new_path, 'wb') as fout:\n",
    "            fout.write(ds.reader.open(element[1][f]).read())"
   ]
  },
  {
   "cell_type": "code",
   "execution_count": null,
   "id": "6691ced8",
   "metadata": {},
   "outputs": [],
   "source": [
    "for i, (dataset,) in df.iterrows():\n",
    "    print('processing:', dataset, '->', i+1, '/', len(df))\n",
    "    prepare_images_classification(dataset)"
   ]
  },
  {
   "cell_type": "markdown",
   "id": "42ec51e4",
   "metadata": {},
   "source": [
    "### Object Detection Public Set"
   ]
  },
  {
   "cell_type": "code",
   "execution_count": null,
   "id": "78233584",
   "metadata": {},
   "outputs": [],
   "source": [
    "url = 'https://raw.githubusercontent.com/zhreshold/efficient-autocv-benchmark/master/benchmark/obj_det_public.txt'\n",
    "df = pd.read_csv(url, header=None)"
   ]
  },
  {
   "cell_type": "code",
   "execution_count": null,
   "id": "7efccbdb",
   "metadata": {},
   "outputs": [],
   "source": [
    "def prepare_images_detection(dataset):\n",
    "    ds = ObjDetDataset.get(dataset)\n",
    "    new_root = os.path.join(ROOT, dataset)\n",
    "    os.makedirs(new_root, exist_ok=True)\n",
    "    unique_images = ds.df.groupby('file_path')\n",
    "    size = len(unique_images)\n",
    "    f_format = \"{:0\" + str(int(np.ceil(np.log10(size))) + 1) + \"d}\"\n",
    "    for i, element in enumerate(unique_images):\n",
    "        path = element[0]\n",
    "        suffix = '.' + path.split('.')[-1]\n",
    "        new_name = f_format.format(int(i)) + suffix\n",
    "        assert suffix.lower() in ('.png', '.jpg', '.jpeg', '.gif'), suffix\n",
    "        new_path = os.path.join(new_root, new_name)\n",
    "        new_relative = os.path.join(dataset, new_name)\n",
    "        with open(new_path, 'wb') as fout:\n",
    "            fout.write(ds.reader.open(element[0]).read())"
   ]
  },
  {
   "cell_type": "code",
   "execution_count": null,
   "id": "32f9cf7a",
   "metadata": {},
   "outputs": [],
   "source": [
    "for i, (dataset,) in df.iterrows():\n",
    "    print('processing:', dataset, '->', i+1, '/', len(df))\n",
    "    prepare_images_detection(dataset)"
   ]
  },
  {
   "cell_type": "code",
   "execution_count": null,
   "id": "31bb034c",
   "metadata": {},
   "outputs": [],
   "source": []
  }
 ],
 "metadata": {
  "kernelspec": {
   "display_name": "dataset",
   "language": "python",
   "name": "dataset"
  },
  "language_info": {
   "codemirror_mode": {
    "name": "ipython",
    "version": 3
   },
   "file_extension": ".py",
   "mimetype": "text/x-python",
   "name": "python",
   "nbconvert_exporter": "python",
   "pygments_lexer": "ipython3",
   "version": "3.7.11"
  }
 },
 "nbformat": 4,
 "nbformat_minor": 5
}
